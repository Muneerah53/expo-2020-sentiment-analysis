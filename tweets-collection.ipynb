{
 "cells": [
  {
   "cell_type": "markdown",
   "metadata": {},
   "source": [
    "# Introduction\n",
    "I will be conducting a sentiment analysis twaords a specific topic. In my case Expo 2020. This part is about discovering and collecting as much data as possible that is relating to the topic. I will be needing tweets that are written in Arabic only and obviusly  discuss my related topic. Each step is further illustrated in its own markdown.\n",
    "\n",
    "\n",
    "\n"
   ]
  },
  {
   "cell_type": "code",
   "execution_count": 1,
   "metadata": {},
   "outputs": [],
   "source": [
    "import tweepy\n",
    "import pandas as pd\n",
    "import numpy as np\n",
    "import configparser\n",
    "import matplotlib as plt"
   ]
  },
  {
   "cell_type": "markdown",
   "metadata": {},
   "source": [
    "### 1. Configuration and Authentication \n",
    "This is the setup part and authentication. I will be using **configparser** to ensure my api keys are not visible. I suggest you do the same. The following is how you set up your own configuration process.\n",
    "\n",
    "\n",
    "1.  create a project from the developer's portal\n",
    "2.  generate your api and access keys\n",
    "3.  save them in a 'config.ini' file in the following format:\n",
    "   \n",
    "    ``` ini\n",
    "    [twitter]\n",
    "    CONSUMER_KEY = 'YOUR CONSUMER KEY'\n",
    "    CONSUMER_SECRET = 'YOUR CONSUMER SECRET'\n",
    "    ACCESS_TOKEN = 'YOUR ACCESS TOKEN'\n",
    "    ACCESS_TOKEN_SECRET = 'YOUR ACCESS TOKEN SECRET' \n",
    "    ```\n",
    "   \n",
    "4. install configparser by running  `pip install configparser`\n",
    "\n",
    "> **Note:** If you don't plan on using the config parser make sure you remove the import and change the next cell accordingly. But make sure you adhere to the same variable names :)"
   ]
  },
  {
   "cell_type": "code",
   "execution_count": 2,
   "metadata": {},
   "outputs": [],
   "source": [
    "# read the file from 'config.ini' \n",
    "config = configparser.ConfigParser()\n",
    "config.read('config.ini')\n",
    "\n",
    "# API Variables\n",
    "CONSUMER_KEY = config['twitter']['CONSUMER_KEY']\n",
    "CONSUMER_SECRET = config['twitter']['CONSUMER_SECRET']\n",
    "ACCESS_TOKEN = config['twitter']['ACCESS_TOKEN']\n",
    "ACCESS_TOKEN_SECRET = config['twitter']['ACCESS_TOKEN_SECRET']\n"
   ]
  },
  {
   "cell_type": "code",
   "execution_count": 3,
   "metadata": {},
   "outputs": [],
   "source": [
    "# authenticate using tweepy\n",
    "def twitter_setup():\n",
    "    auth = tweepy.OAuth1UserHandler(CONSUMER_KEY, CONSUMER_SECRET)  # project access\n",
    "    auth.set_access_token(ACCESS_TOKEN, ACCESS_TOKEN_SECRET)  # user access\n",
    "\n",
    "    api = tweepy.API(auth = auth)\n",
    "    return api\n",
    "\n",
    "extractor = twitter_setup() "
   ]
  },
  {
   "cell_type": "markdown",
   "metadata": {},
   "source": [
    "### 2. Data Collection\n",
    "After setting up the credentials and auhenticating the project. I can start extracting data using **tweepy's** API. The aim is to serach different terms and different hashtags in order to collect as much entries as the API allows for.\n"
   ]
  },
  {
   "cell_type": "code",
   "execution_count": 103,
   "metadata": {},
   "outputs": [],
   "source": [
    "\n",
    "\n",
    "\n",
    "\n",
    "def extract_tweets():\n",
    "    tweets = []\n",
    "    # search_terms = '@expo2020dubai'\n",
    "    # tweets = tweepy.Cursor(extractor.search_tweets, q=search_terms, lang='ar', tweet_mode='extended', until = \"2021-10-1\").items(2000)\n",
    "    search_term = '@expo2020dubai -filter:retweets OR #expo2020'\n",
    "    tweets = tweepy.Cursor(extractor.search_tweets, q=search_term,\n",
    "                       lang='ar', tweet_mode='extended').items(1500)\n",
    "    return tweets    \n"
   ]
  },
  {
   "cell_type": "code",
   "execution_count": 104,
   "metadata": {},
   "outputs": [],
   "source": [
    "tweets = extract_tweets()"
   ]
  },
  {
   "cell_type": "markdown",
   "metadata": {},
   "source": [
    "### 3. Data Exploration"
   ]
  },
  {
   "cell_type": "code",
   "execution_count": 105,
   "metadata": {},
   "outputs": [],
   "source": [
    "columns_header = ['ID', 'Tweet','Timestamp', 'Likes', 'Retweets', 'Length'] # these should be universal in every .csv file\n",
    "data = []"
   ]
  },
  {
   "cell_type": "code",
   "execution_count": 106,
   "metadata": {},
   "outputs": [],
   "source": [
    "for tweet in tweets:\n",
    "    data.append([tweet.id, tweet.full_text, tweet.created_at, tweet.favorite_count, tweet.retweet_count, len(tweet.full_text)])"
   ]
  },
  {
   "cell_type": "code",
   "execution_count": 107,
   "metadata": {},
   "outputs": [
    {
     "data": {
      "text/html": [
       "<div>\n",
       "<style scoped>\n",
       "    .dataframe tbody tr th:only-of-type {\n",
       "        vertical-align: middle;\n",
       "    }\n",
       "\n",
       "    .dataframe tbody tr th {\n",
       "        vertical-align: top;\n",
       "    }\n",
       "\n",
       "    .dataframe thead th {\n",
       "        text-align: right;\n",
       "    }\n",
       "</style>\n",
       "<table border=\"1\" class=\"dataframe\">\n",
       "  <thead>\n",
       "    <tr style=\"text-align: right;\">\n",
       "      <th></th>\n",
       "      <th>ID</th>\n",
       "      <th>Tweet</th>\n",
       "      <th>Timestamp</th>\n",
       "      <th>Likes</th>\n",
       "      <th>Retweets</th>\n",
       "      <th>Length</th>\n",
       "    </tr>\n",
       "  </thead>\n",
       "  <tbody>\n",
       "    <tr>\n",
       "      <th>0</th>\n",
       "      <td>1499839234802618371</td>\n",
       "      <td>حتى لو خطافي  لازم أحضر 😂\\n #Expo2020Dubai  #E...</td>\n",
       "      <td>2022-03-04 20:08:33+00:00</td>\n",
       "      <td>0</td>\n",
       "      <td>0</td>\n",
       "      <td>279</td>\n",
       "    </tr>\n",
       "    <tr>\n",
       "      <th>1</th>\n",
       "      <td>1499838410860683271</td>\n",
       "      <td>جنة الارض رب العرش سواها 🇦🇪♥️'\\n#ميحد_حمد @exp...</td>\n",
       "      <td>2022-03-04 20:05:17+00:00</td>\n",
       "      <td>1</td>\n",
       "      <td>0</td>\n",
       "      <td>79</td>\n",
       "    </tr>\n",
       "    <tr>\n",
       "      <th>2</th>\n",
       "      <td>1499838035948716035</td>\n",
       "      <td>@jaberm_ar @expo2020dubai يبغالك دباب ويالله ت...</td>\n",
       "      <td>2022-03-04 20:03:48+00:00</td>\n",
       "      <td>0</td>\n",
       "      <td>0</td>\n",
       "      <td>56</td>\n",
       "    </tr>\n",
       "    <tr>\n",
       "      <th>3</th>\n",
       "      <td>1499837719153098752</td>\n",
       "      <td>@Jhad1409 @expo2020dubai فعلا يا جهاد. ليته اس...</td>\n",
       "      <td>2022-03-04 20:02:32+00:00</td>\n",
       "      <td>0</td>\n",
       "      <td>0</td>\n",
       "      <td>61</td>\n",
       "    </tr>\n",
       "    <tr>\n",
       "      <th>4</th>\n",
       "      <td>1499837441028784128</td>\n",
       "      <td>@maximus__1 @expo2020dubai شكرا خالد.</td>\n",
       "      <td>2022-03-04 20:01:26+00:00</td>\n",
       "      <td>0</td>\n",
       "      <td>0</td>\n",
       "      <td>37</td>\n",
       "    </tr>\n",
       "  </tbody>\n",
       "</table>\n",
       "</div>"
      ],
      "text/plain": [
       "                    ID                                              Tweet  \\\n",
       "0  1499839234802618371  حتى لو خطافي  لازم أحضر 😂\\n #Expo2020Dubai  #E...   \n",
       "1  1499838410860683271  جنة الارض رب العرش سواها 🇦🇪♥️'\\n#ميحد_حمد @exp...   \n",
       "2  1499838035948716035  @jaberm_ar @expo2020dubai يبغالك دباب ويالله ت...   \n",
       "3  1499837719153098752  @Jhad1409 @expo2020dubai فعلا يا جهاد. ليته اس...   \n",
       "4  1499837441028784128              @maximus__1 @expo2020dubai شكرا خالد.   \n",
       "\n",
       "                  Timestamp  Likes  Retweets  Length  \n",
       "0 2022-03-04 20:08:33+00:00      0         0     279  \n",
       "1 2022-03-04 20:05:17+00:00      1         0      79  \n",
       "2 2022-03-04 20:03:48+00:00      0         0      56  \n",
       "3 2022-03-04 20:02:32+00:00      0         0      61  \n",
       "4 2022-03-04 20:01:26+00:00      0         0      37  "
      ]
     },
     "execution_count": 107,
     "metadata": {},
     "output_type": "execute_result"
    }
   ],
   "source": [
    "# convert to a dataframe\n",
    "df = pd.DataFrame(data = data, columns = columns_header)\n",
    "df.head()"
   ]
  },
  {
   "cell_type": "code",
   "execution_count": 108,
   "metadata": {},
   "outputs": [
    {
     "name": "stdout",
     "output_type": "stream",
     "text": [
      "total of collected tweets is  1500\n"
     ]
    }
   ],
   "source": [
    "print('total of collected tweets is ', len(df))"
   ]
  },
  {
   "cell_type": "code",
   "execution_count": 109,
   "metadata": {},
   "outputs": [
    {
     "name": "stdout",
     "output_type": "stream",
     "text": [
      "<class 'pandas.core.frame.DataFrame'>\n",
      "RangeIndex: 1500 entries, 0 to 1499\n",
      "Data columns (total 6 columns):\n",
      " #   Column     Non-Null Count  Dtype              \n",
      "---  ------     --------------  -----              \n",
      " 0   ID         1500 non-null   int64              \n",
      " 1   Tweet      1500 non-null   object             \n",
      " 2   Timestamp  1500 non-null   datetime64[ns, UTC]\n",
      " 3   Likes      1500 non-null   int64              \n",
      " 4   Retweets   1500 non-null   int64              \n",
      " 5   Length     1500 non-null   int64              \n",
      "dtypes: datetime64[ns, UTC](1), int64(4), object(1)\n",
      "memory usage: 70.4+ KB\n"
     ]
    }
   ],
   "source": [
    "df.info()"
   ]
  },
  {
   "cell_type": "markdown",
   "metadata": {},
   "source": [
    "### 4. Data Visualization"
   ]
  },
  {
   "cell_type": "code",
   "execution_count": null,
   "metadata": {},
   "outputs": [],
   "source": []
  },
  {
   "cell_type": "markdown",
   "metadata": {},
   "source": [
    "### 5. Data Storage"
   ]
  },
  {
   "cell_type": "code",
   "execution_count": 110,
   "metadata": {},
   "outputs": [],
   "source": [
    "df.to_csv('tweets_3.csv') # make sure you create a new file name "
   ]
  },
  {
   "cell_type": "code",
   "execution_count": null,
   "metadata": {},
   "outputs": [],
   "source": []
  },
  {
   "cell_type": "code",
   "execution_count": null,
   "metadata": {},
   "outputs": [],
   "source": []
  }
 ],
 "metadata": {
  "interpreter": {
   "hash": "ac59ebe37160ed0dfa835113d9b8498d9f09ceb179beaac4002f036b9467c963"
  },
  "kernelspec": {
   "display_name": "Python 3.9.7 64-bit",
   "language": "python",
   "name": "python3"
  },
  "language_info": {
   "codemirror_mode": {
    "name": "ipython",
    "version": 3
   },
   "file_extension": ".py",
   "mimetype": "text/x-python",
   "name": "python",
   "nbconvert_exporter": "python",
   "pygments_lexer": "ipython3",
   "version": "3.9.7"
  },
  "orig_nbformat": 4
 },
 "nbformat": 4,
 "nbformat_minor": 2
}
