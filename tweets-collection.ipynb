{
 "cells": [
  {
   "cell_type": "markdown",
   "metadata": {},
   "source": [
    "# Introduction\n",
    "\n",
    "\n",
    "\n",
    "\n"
   ]
  },
  {
   "cell_type": "code",
   "execution_count": 1,
   "metadata": {},
   "outputs": [],
   "source": [
    "import tweepy\n",
    "import pandas as pd\n",
    "import numpy as np\n",
    "import configparser"
   ]
  },
  {
   "cell_type": "markdown",
   "metadata": {},
   "source": [
    "### 1. Configuration and Authentication \n",
    "This is the setup part and authentication. I will be using **configparser** to ensure my api keys are not visible. I suggest you do the same. The following is how you set up your own configuration process.\n",
    "\n",
    "\n",
    "1.  create a project from the developer's portal\n",
    "2.  generate your api and access keys\n",
    "3.  save them in a 'config.ini' file in the following format:\n",
    "   \n",
    "    ``` ini\n",
    "    [twitter]\n",
    "    CONSUMER_KEY = 'YOUR CONSUMER KEY'\n",
    "    CONSUMER_SECRET = 'YOUR CONSUMER SECRET'\n",
    "    ACCESS_TOKEN = 'YOUR ACCESS TOKEN'\n",
    "    ACCESS_TOKEN_SECRET = 'YOUR ACCESS TOKEN SECRET' \n",
    "    ```\n",
    "   \n",
    "4. install configparser by running  `pip install configparser`\n",
    "\n",
    "> **Note:** If you don't plan on using the config parser make sure you remove the import and change the next cell accordingly. But make sure you adhere to the same variable names :)"
   ]
  },
  {
   "cell_type": "code",
   "execution_count": 2,
   "metadata": {},
   "outputs": [],
   "source": [
    "# read the file from 'config.ini' \n",
    "config = configparser.ConfigParser()\n",
    "config.read('config.ini')\n",
    "\n",
    "# API Variables\n",
    "CONSUMER_KEY = config['twitter']['CONSUMER_KEY']\n",
    "CONSUMER_SECRET = config['twitter']['CONSUMER_SECRET']\n",
    "ACCESS_TOKEN = config['twitter']['ACCESS_TOKEN']\n",
    "ACCESS_TOKEN_SECRET = config['twitter']['ACCESS_TOKEN_SECRET']\n"
   ]
  },
  {
   "cell_type": "code",
   "execution_count": 3,
   "metadata": {},
   "outputs": [],
   "source": [
    "# authenticate using tweepy\n",
    "def twitter_setup():\n",
    "    auth = tweepy.OAuth1UserHandler(CONSUMER_KEY, CONSUMER_SECRET)  # project access\n",
    "    auth.set_access_token(ACCESS_TOKEN, ACCESS_TOKEN_SECRET)  # user access\n",
    "\n",
    "    api = tweepy.API(auth = auth)\n",
    "    return api\n",
    "\n",
    "extractor = twitter_setup() "
   ]
  },
  {
   "cell_type": "markdown",
   "metadata": {},
   "source": [
    "### 2. Data Collection"
   ]
  },
  {
   "cell_type": "code",
   "execution_count": 4,
   "metadata": {},
   "outputs": [],
   "source": [
    "tweets = extractor.user_timeline(count = 100)"
   ]
  },
  {
   "cell_type": "markdown",
   "metadata": {},
   "source": [
    "### 3. Data Exploration"
   ]
  },
  {
   "cell_type": "markdown",
   "metadata": {},
   "source": [
    "### 4. Data Visualization"
   ]
  },
  {
   "cell_type": "markdown",
   "metadata": {},
   "source": [
    "### 5. Data Storage"
   ]
  },
  {
   "cell_type": "code",
   "execution_count": 5,
   "metadata": {},
   "outputs": [],
   "source": [
    "columns_header = ['ID', 'Tweet','Timestamp', 'Likes', 'Retweets', 'Length'] # these should be universal in every .csv file\n",
    "data = []"
   ]
  },
  {
   "cell_type": "code",
   "execution_count": 6,
   "metadata": {},
   "outputs": [],
   "source": [
    "for tweet in tweets:\n",
    "    data.append([tweet.id, tweet.text, tweet.created_at, tweet.favorite_count, tweet.retweet_count, len(tweet.text)])"
   ]
  },
  {
   "cell_type": "code",
   "execution_count": 7,
   "metadata": {},
   "outputs": [
    {
     "data": {
      "text/html": [
       "<div>\n",
       "<style scoped>\n",
       "    .dataframe tbody tr th:only-of-type {\n",
       "        vertical-align: middle;\n",
       "    }\n",
       "\n",
       "    .dataframe tbody tr th {\n",
       "        vertical-align: top;\n",
       "    }\n",
       "\n",
       "    .dataframe thead th {\n",
       "        text-align: right;\n",
       "    }\n",
       "</style>\n",
       "<table border=\"1\" class=\"dataframe\">\n",
       "  <thead>\n",
       "    <tr style=\"text-align: right;\">\n",
       "      <th></th>\n",
       "      <th>ID</th>\n",
       "      <th>Tweet</th>\n",
       "      <th>Timestamp</th>\n",
       "      <th>Likes</th>\n",
       "      <th>Retweets</th>\n",
       "      <th>Length</th>\n",
       "    </tr>\n",
       "  </thead>\n",
       "  <tbody>\n",
       "    <tr>\n",
       "      <th>0</th>\n",
       "      <td>1494744760266985475</td>\n",
       "      <td>I know you're here in spirit, put on Deja Entendu</td>\n",
       "      <td>2022-02-18 18:44:56+00:00</td>\n",
       "      <td>0</td>\n",
       "      <td>0</td>\n",
       "      <td>49</td>\n",
       "    </tr>\n",
       "    <tr>\n",
       "      <th>1</th>\n",
       "      <td>1493976251899564039</td>\n",
       "      <td>@AseeISadan كاميرتهم ترقع شوي ترا 😭😭😭😭😭</td>\n",
       "      <td>2022-02-16 15:51:09+00:00</td>\n",
       "      <td>0</td>\n",
       "      <td>0</td>\n",
       "      <td>39</td>\n",
       "    </tr>\n",
       "    <tr>\n",
       "      <th>2</th>\n",
       "      <td>1493967109516410884</td>\n",
       "      <td>@AseeISadan هم يصورونك مضيع اخوي</td>\n",
       "      <td>2022-02-16 15:14:50+00:00</td>\n",
       "      <td>0</td>\n",
       "      <td>0</td>\n",
       "      <td>32</td>\n",
       "    </tr>\n",
       "    <tr>\n",
       "      <th>3</th>\n",
       "      <td>1488910367065579521</td>\n",
       "      <td>@AseeISadan Better late than never I guess 🤭\\n...</td>\n",
       "      <td>2022-02-02 16:21:08+00:00</td>\n",
       "      <td>0</td>\n",
       "      <td>0</td>\n",
       "      <td>76</td>\n",
       "    </tr>\n",
       "    <tr>\n",
       "      <th>4</th>\n",
       "      <td>1440984432345821189</td>\n",
       "      <td>RT @stat_ksu: مشاركة طلاب قسم الإحصاء وبحوث ال...</td>\n",
       "      <td>2021-09-23 10:20:35+00:00</td>\n",
       "      <td>0</td>\n",
       "      <td>10</td>\n",
       "      <td>124</td>\n",
       "    </tr>\n",
       "  </tbody>\n",
       "</table>\n",
       "</div>"
      ],
      "text/plain": [
       "                    ID                                              Tweet  \\\n",
       "0  1494744760266985475  I know you're here in spirit, put on Deja Entendu   \n",
       "1  1493976251899564039            @AseeISadan كاميرتهم ترقع شوي ترا 😭😭😭😭😭   \n",
       "2  1493967109516410884                   @AseeISadan هم يصورونك مضيع اخوي   \n",
       "3  1488910367065579521  @AseeISadan Better late than never I guess 🤭\\n...   \n",
       "4  1440984432345821189  RT @stat_ksu: مشاركة طلاب قسم الإحصاء وبحوث ال...   \n",
       "\n",
       "                  Timestamp  Likes  Retweets  Length  \n",
       "0 2022-02-18 18:44:56+00:00      0         0      49  \n",
       "1 2022-02-16 15:51:09+00:00      0         0      39  \n",
       "2 2022-02-16 15:14:50+00:00      0         0      32  \n",
       "3 2022-02-02 16:21:08+00:00      0         0      76  \n",
       "4 2021-09-23 10:20:35+00:00      0        10     124  "
      ]
     },
     "execution_count": 7,
     "metadata": {},
     "output_type": "execute_result"
    }
   ],
   "source": [
    "# convert to a dataframe\n",
    "df = pd.DataFrame(data = data, columns = columns_header)\n",
    "df.head()\n"
   ]
  },
  {
   "cell_type": "code",
   "execution_count": null,
   "metadata": {},
   "outputs": [],
   "source": []
  },
  {
   "cell_type": "code",
   "execution_count": 8,
   "metadata": {},
   "outputs": [],
   "source": [
    "df.to_csv('tweets_1.csv') # make sure you create a new file name "
   ]
  },
  {
   "cell_type": "code",
   "execution_count": null,
   "metadata": {},
   "outputs": [],
   "source": []
  }
 ],
 "metadata": {
  "interpreter": {
   "hash": "ac59ebe37160ed0dfa835113d9b8498d9f09ceb179beaac4002f036b9467c963"
  },
  "kernelspec": {
   "display_name": "Python 3.9.7 64-bit",
   "language": "python",
   "name": "python3"
  },
  "language_info": {
   "codemirror_mode": {
    "name": "ipython",
    "version": 3
   },
   "file_extension": ".py",
   "mimetype": "text/x-python",
   "name": "python",
   "nbconvert_exporter": "python",
   "pygments_lexer": "ipython3",
   "version": "3.9.7"
  },
  "orig_nbformat": 4
 },
 "nbformat": 4,
 "nbformat_minor": 2
}
