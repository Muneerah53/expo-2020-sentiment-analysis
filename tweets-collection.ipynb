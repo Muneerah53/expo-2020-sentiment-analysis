{
 "cells": [
  {
   "cell_type": "markdown",
   "metadata": {},
   "source": [
    "# Introduction\n",
    "The aim of this project is to conduct a sentiment analysis using python and twitter's API. The topic in my case is Expo 2020.\n",
    "\n",
    "**What is Expo 2020?**\n",
    "> Initiated in London 1851. It is a global gathering aimed to find solutions to challenges imposed by the current times. Aims  to create enriching and immersive experience. World expo traverses through different cities each time. It also revolves around certain themes. Currently, World expo is taking place in Dubai, UAE. Between Oct, 2021 and Mar, 2022. For more information please visit [expo2020dubai](https://www.expo2020dubai.com/)\n",
    "\n",
    "**The goal of this project**\n",
    "> As discussed above the main goal is to conduct a sentiment analysis and learn the basics of data science and big data projects. Since expo 2020 is considered an educational exhibition that revolves around modern day problems and is hosted currently in the middle east. The aim is to measure the awareness of the arab society - *By arab society we mean anyone who posts their opinions in arabic*\n",
    "\n",
    "\n",
    "\n",
    "This part is about discovering and collecting as much data as possible that is relating to the topic at hand. I will be needing tweets that are written in Arabic. \n",
    "Each step is further illustrated in its own markdown.\n",
    "\n",
    "\n",
    "\n"
   ]
  },
  {
   "cell_type": "code",
   "execution_count": 97,
   "metadata": {},
   "outputs": [],
   "source": [
    "import tweepy\n",
    "import pandas as pd\n",
    "import numpy as np\n",
    "import configparser\n",
    "import matplotlib.pyplot as plt\n",
    "import random"
   ]
  },
  {
   "cell_type": "markdown",
   "metadata": {},
   "source": [
    "### 1. Configuration and Authentication \n",
    "---\n",
    "This is the setup part and API authentication. Prior to using the API it is necessary to create a developer account, the account grants you two levels of access. A user level and an application/project level. I will be using **configparser** to ensure my API keys are not visible. I suggest you do the same. The following is how to set up the configuration process.\n",
    "\n",
    "\n",
    "1.  create a project from the developer's portal\n",
    "2.  generate your API and access keys\n",
    "3.  save them in a 'config.ini' file in the following format:\n",
    "   \n",
    "    ``` ini\n",
    "    [twitter]\n",
    "    CONSUMER_KEY = 'YOUR CONSUMER KEY'\n",
    "    CONSUMER_SECRET = 'YOUR CONSUMER SECRET'\n",
    "    ACCESS_TOKEN = 'YOUR ACCESS TOKEN'\n",
    "    ACCESS_TOKEN_SECRET = 'YOUR ACCESS TOKEN SECRET' \n",
    "    ```\n",
    "   \n",
    "4. install configparser by running  `pip install configparser`\n",
    "\n",
    "> **Note:** If you don't plan on using the config parser make sure you remove the import and change the next cell accordingly. To eliminate any errors. Make sure you adhere to the same variable names!"
   ]
  },
  {
   "cell_type": "code",
   "execution_count": 73,
   "metadata": {},
   "outputs": [],
   "source": [
    "# read the file from 'config.ini' \n",
    "config = configparser.ConfigParser()\n",
    "config.read('config.ini')\n",
    "\n",
    "# API Variables\n",
    "CONSUMER_KEY = config['twitter']['CONSUMER_KEY']\n",
    "CONSUMER_SECRET = config['twitter']['CONSUMER_SECRET']\n",
    "ACCESS_TOKEN = config['twitter']['ACCESS_TOKEN']\n",
    "ACCESS_TOKEN_SECRET = config['twitter']['ACCESS_TOKEN_SECRET']\n"
   ]
  },
  {
   "cell_type": "code",
   "execution_count": 74,
   "metadata": {},
   "outputs": [],
   "source": [
    "# authenticate using tweepy\n",
    "def twitter_setup():\n",
    "    auth = tweepy.OAuth1UserHandler(CONSUMER_KEY, CONSUMER_SECRET)  # project access\n",
    "    auth.set_access_token(ACCESS_TOKEN, ACCESS_TOKEN_SECRET)  # user access\n",
    "\n",
    "    api = tweepy.API(auth = auth)\n",
    "    return api\n",
    "\n",
    "extractor = twitter_setup() "
   ]
  },
  {
   "cell_type": "markdown",
   "metadata": {},
   "source": [
    "### 2. Data Collection\n",
    "---\n",
    "After setting up the credentials and authenticating the project. I can start extracting data using **tweepy's** API. The aim is to search different terms and different hashtags in order to collect as much entries as the API allows for. There are many limitations since I have the `Elevated Access`. The main ones is that the search API only allows search to go back 7 days. One way this was managed was starting the project early. However, the ideal goal is to be able to search the entire archive. Nonetheless, the project aims to measure the opinion at the current time. Therefore, the regular search will suffice!\n",
    "\n",
    "I have created a function that when called extracts tweets depending on a local list. This list can have as many search queires as anyone would like. Also, The function parses the needed information and stores it in a data frame. Upon each iteration it appends to the previous data frame. This is beneficial when storing the data in .csv files."
   ]
  },
  {
   "cell_type": "code",
   "execution_count": 75,
   "metadata": {},
   "outputs": [],
   "source": [
    "\n",
    "# Function that searches the API iteratively based on given search terms \n",
    "# The aim is to collect the tweets each time, place it in a dataframe then combine it with the previously fetched result \n",
    "# this allows us to store a huge amount of data in one csv file or at least in manageable number. \n",
    "\n",
    "\n",
    "def extract_tweets():\n",
    "    tweets = []  # main data frame\n",
    "    data = [] # temporary data frame\n",
    "    columns_header = ['ID', 'Tweet', 'Timestamp',\n",
    "                      'Likes', 'Retweets', 'Length']\n",
    "    search_terms = ['@expo2020dubai -filter:retweets',\n",
    "                    '#expo2020 -filter:retweets',\n",
    "                    '#اكسبو -filter:retweets',\n",
    "                    'اكسبو دبي -filter:retweets']  # search terms\n",
    "\n",
    "    # fetch the tweets once prior to the iteration to append things correctly\n",
    "    collected_tweets = tweepy.Cursor(extractor.search_tweets, q='expo dubai -filter:retweets', lang='ar', tweet_mode='extended').items(600)\n",
    "\n",
    "    for tweet in collected_tweets:\n",
    "        data.append([tweet.id, tweet.full_text, tweet.created_at,tweet.favorite_count, tweet.retweet_count, len(tweet.full_text)])\n",
    "\n",
    "    tweets = pd.DataFrame(data=data, columns=columns_header) # store in original data frame\n",
    "\n",
    "    for term in search_terms:\n",
    "        data = []\n",
    "        collected_tweets = tweepy.Cursor(extractor.search_tweets, q=term, lang='ar', tweet_mode='extended').items(600)\n",
    "\n",
    "        for tweet in collected_tweets:\n",
    "            data.append([tweet.id, tweet.full_text, tweet.created_at, tweet.favorite_count, tweet.retweet_count, len(tweet.full_text)])\n",
    "\n",
    "        df = pd.DataFrame(data=data, columns=columns_header)\n",
    "        frames = [tweets, df]  \n",
    "        tweets = pd.concat(frames) # append the data frame to the previous one\n",
    "\n",
    "    # since we are appending data frames the index value changes each time\n",
    "    # here the goal is to create a new index that is incremented by one \n",
    "    tweets.insert(0, 'index', range(0, len(tweets))) \n",
    "    tweets = tweets.set_index('index')\n",
    "\n",
    "    # random number to ensure files don't get overwritten\n",
    "    tweets.to_csv(f'tweets{random.randint(127,1862)}.csv')\n",
    "    \n",
    "    return tweets\n",
    "\n",
    "\n"
   ]
  },
  {
   "cell_type": "code",
   "execution_count": 93,
   "metadata": {},
   "outputs": [],
   "source": [
    "tweets = extract_tweets()"
   ]
  },
  {
   "cell_type": "markdown",
   "metadata": {},
   "source": [
    "### 3. Preliminary Data Exploration"
   ]
  },
  {
   "cell_type": "code",
   "execution_count": 98,
   "metadata": {},
   "outputs": [
    {
     "data": {
      "text/html": [
       "<div>\n",
       "<style scoped>\n",
       "    .dataframe tbody tr th:only-of-type {\n",
       "        vertical-align: middle;\n",
       "    }\n",
       "\n",
       "    .dataframe tbody tr th {\n",
       "        vertical-align: top;\n",
       "    }\n",
       "\n",
       "    .dataframe thead th {\n",
       "        text-align: right;\n",
       "    }\n",
       "</style>\n",
       "<table border=\"1\" class=\"dataframe\">\n",
       "  <thead>\n",
       "    <tr style=\"text-align: right;\">\n",
       "      <th></th>\n",
       "      <th>ID</th>\n",
       "      <th>Tweet</th>\n",
       "      <th>Timestamp</th>\n",
       "      <th>Likes</th>\n",
       "      <th>Retweets</th>\n",
       "      <th>Length</th>\n",
       "    </tr>\n",
       "    <tr>\n",
       "      <th>index</th>\n",
       "      <th></th>\n",
       "      <th></th>\n",
       "      <th></th>\n",
       "      <th></th>\n",
       "      <th></th>\n",
       "      <th></th>\n",
       "    </tr>\n",
       "  </thead>\n",
       "  <tbody>\n",
       "    <tr>\n",
       "      <th>0</th>\n",
       "      <td>1500549356201693185</td>\n",
       "      <td>ألق نظرة على أسرع وأغلى سيارة إسعاف بالعالم في...</td>\n",
       "      <td>2022-03-06 19:10:20+00:00</td>\n",
       "      <td>1</td>\n",
       "      <td>0</td>\n",
       "      <td>100</td>\n",
       "    </tr>\n",
       "    <tr>\n",
       "      <th>1</th>\n",
       "      <td>1500549096909778948</td>\n",
       "      <td>مُكوّن \"سحري\" للبشرة.. شركة تستخدم حليب الإبل ...</td>\n",
       "      <td>2022-03-06 19:09:18+00:00</td>\n",
       "      <td>1</td>\n",
       "      <td>0</td>\n",
       "      <td>97</td>\n",
       "    </tr>\n",
       "    <tr>\n",
       "      <th>2</th>\n",
       "      <td>1500538787092434945</td>\n",
       "      <td>مُكوّن \"سحري\" للبشرة ومفيد للاستحمام.. شركة تس...</td>\n",
       "      <td>2022-03-06 18:28:20+00:00</td>\n",
       "      <td>0</td>\n",
       "      <td>0</td>\n",
       "      <td>100</td>\n",
       "    </tr>\n",
       "    <tr>\n",
       "      <th>3</th>\n",
       "      <td>1500529057070555136</td>\n",
       "      <td>#إكسبو2020 دبي.. حصن الاتحاد 8 يسلط الضوء على ...</td>\n",
       "      <td>2022-03-06 17:49:40+00:00</td>\n",
       "      <td>2</td>\n",
       "      <td>1</td>\n",
       "      <td>177</td>\n",
       "    </tr>\n",
       "    <tr>\n",
       "      <th>4</th>\n",
       "      <td>1500501458785128451</td>\n",
       "      <td>رئيس وزراء #كرواتيا: #إكسبو2020 دبي\" يعزز ويثر...</td>\n",
       "      <td>2022-03-06 16:00:00+00:00</td>\n",
       "      <td>2</td>\n",
       "      <td>1</td>\n",
       "      <td>175</td>\n",
       "    </tr>\n",
       "  </tbody>\n",
       "</table>\n",
       "</div>"
      ],
      "text/plain": [
       "                        ID                                              Tweet  \\\n",
       "index                                                                           \n",
       "0      1500549356201693185  ألق نظرة على أسرع وأغلى سيارة إسعاف بالعالم في...   \n",
       "1      1500549096909778948  مُكوّن \"سحري\" للبشرة.. شركة تستخدم حليب الإبل ...   \n",
       "2      1500538787092434945  مُكوّن \"سحري\" للبشرة ومفيد للاستحمام.. شركة تس...   \n",
       "3      1500529057070555136  #إكسبو2020 دبي.. حصن الاتحاد 8 يسلط الضوء على ...   \n",
       "4      1500501458785128451  رئيس وزراء #كرواتيا: #إكسبو2020 دبي\" يعزز ويثر...   \n",
       "\n",
       "                      Timestamp  Likes  Retweets  Length  \n",
       "index                                                     \n",
       "0     2022-03-06 19:10:20+00:00      1         0     100  \n",
       "1     2022-03-06 19:09:18+00:00      1         0      97  \n",
       "2     2022-03-06 18:28:20+00:00      0         0     100  \n",
       "3     2022-03-06 17:49:40+00:00      2         1     177  \n",
       "4     2022-03-06 16:00:00+00:00      2         1     175  "
      ]
     },
     "metadata": {},
     "output_type": "display_data"
    },
    {
     "data": {
      "text/html": [
       "<div>\n",
       "<style scoped>\n",
       "    .dataframe tbody tr th:only-of-type {\n",
       "        vertical-align: middle;\n",
       "    }\n",
       "\n",
       "    .dataframe tbody tr th {\n",
       "        vertical-align: top;\n",
       "    }\n",
       "\n",
       "    .dataframe thead th {\n",
       "        text-align: right;\n",
       "    }\n",
       "</style>\n",
       "<table border=\"1\" class=\"dataframe\">\n",
       "  <thead>\n",
       "    <tr style=\"text-align: right;\">\n",
       "      <th></th>\n",
       "      <th>ID</th>\n",
       "      <th>Tweet</th>\n",
       "      <th>Timestamp</th>\n",
       "      <th>Likes</th>\n",
       "      <th>Retweets</th>\n",
       "      <th>Length</th>\n",
       "    </tr>\n",
       "    <tr>\n",
       "      <th>index</th>\n",
       "      <th></th>\n",
       "      <th></th>\n",
       "      <th></th>\n",
       "      <th></th>\n",
       "      <th></th>\n",
       "      <th></th>\n",
       "    </tr>\n",
       "  </thead>\n",
       "  <tbody>\n",
       "    <tr>\n",
       "      <th>1864</th>\n",
       "      <td>1499621721443287042</td>\n",
       "      <td>اكسبو دبي : @expo2020dubai \\nتكملة البوستات زر...</td>\n",
       "      <td>2022-03-04 05:44:14+00:00</td>\n",
       "      <td>0</td>\n",
       "      <td>0</td>\n",
       "      <td>209</td>\n",
       "    </tr>\n",
       "    <tr>\n",
       "      <th>1865</th>\n",
       "      <td>1499621437455224833</td>\n",
       "      <td>متحمسون اليوم للاحتفال مع تونغا 🙌\\nلا تفوتوا ه...</td>\n",
       "      <td>2022-03-04 05:43:06+00:00</td>\n",
       "      <td>13</td>\n",
       "      <td>5</td>\n",
       "      <td>217</td>\n",
       "    </tr>\n",
       "    <tr>\n",
       "      <th>1866</th>\n",
       "      <td>1499619601239400449</td>\n",
       "      <td>#UAE - (#الإمارات) علق حاكم دبي ورئيس الوزراء ...</td>\n",
       "      <td>2022-03-04 05:35:49+00:00</td>\n",
       "      <td>2</td>\n",
       "      <td>1</td>\n",
       "      <td>208</td>\n",
       "    </tr>\n",
       "    <tr>\n",
       "      <th>1867</th>\n",
       "      <td>1499619356292321283</td>\n",
       "      <td>#حسين_الجسمي: بحكم أنه تم اختياري سفيراً لـ \"#...</td>\n",
       "      <td>2022-03-04 05:34:50+00:00</td>\n",
       "      <td>39</td>\n",
       "      <td>3</td>\n",
       "      <td>236</td>\n",
       "    </tr>\n",
       "    <tr>\n",
       "      <th>1868</th>\n",
       "      <td>1499619335111069701</td>\n",
       "      <td>#حسين_الجسمي أعرب في حواره مع \"الاتحاد\" عن فخر...</td>\n",
       "      <td>2022-03-04 05:34:45+00:00</td>\n",
       "      <td>1</td>\n",
       "      <td>0</td>\n",
       "      <td>256</td>\n",
       "    </tr>\n",
       "  </tbody>\n",
       "</table>\n",
       "</div>"
      ],
      "text/plain": [
       "                        ID                                              Tweet  \\\n",
       "index                                                                           \n",
       "1864   1499621721443287042  اكسبو دبي : @expo2020dubai \\nتكملة البوستات زر...   \n",
       "1865   1499621437455224833  متحمسون اليوم للاحتفال مع تونغا 🙌\\nلا تفوتوا ه...   \n",
       "1866   1499619601239400449  #UAE - (#الإمارات) علق حاكم دبي ورئيس الوزراء ...   \n",
       "1867   1499619356292321283  #حسين_الجسمي: بحكم أنه تم اختياري سفيراً لـ \"#...   \n",
       "1868   1499619335111069701  #حسين_الجسمي أعرب في حواره مع \"الاتحاد\" عن فخر...   \n",
       "\n",
       "                      Timestamp  Likes  Retweets  Length  \n",
       "index                                                     \n",
       "1864  2022-03-04 05:44:14+00:00      0         0     209  \n",
       "1865  2022-03-04 05:43:06+00:00     13         5     217  \n",
       "1866  2022-03-04 05:35:49+00:00      2         1     208  \n",
       "1867  2022-03-04 05:34:50+00:00     39         3     236  \n",
       "1868  2022-03-04 05:34:45+00:00      1         0     256  "
      ]
     },
     "metadata": {},
     "output_type": "display_data"
    },
    {
     "name": "stdout",
     "output_type": "stream",
     "text": [
      "total of collected tweets is  1869\n"
     ]
    }
   ],
   "source": [
    "display(tweets.head())\n",
    "display(tweets.tail())\n",
    "print('total of collected tweets is ', len(tweets))\n"
   ]
  },
  {
   "cell_type": "code",
   "execution_count": 99,
   "metadata": {},
   "outputs": [
    {
     "name": "stdout",
     "output_type": "stream",
     "text": [
      "<class 'pandas.core.frame.DataFrame'>\n",
      "Int64Index: 1869 entries, 0 to 1868\n",
      "Data columns (total 6 columns):\n",
      " #   Column     Non-Null Count  Dtype              \n",
      "---  ------     --------------  -----              \n",
      " 0   ID         1869 non-null   int64              \n",
      " 1   Tweet      1869 non-null   object             \n",
      " 2   Timestamp  1869 non-null   datetime64[ns, UTC]\n",
      " 3   Likes      1869 non-null   int64              \n",
      " 4   Retweets   1869 non-null   int64              \n",
      " 5   Length     1869 non-null   int64              \n",
      "dtypes: datetime64[ns, UTC](1), int64(4), object(1)\n",
      "memory usage: 102.2+ KB\n"
     ]
    }
   ],
   "source": [
    "\n",
    "tweets.info()\n"
   ]
  },
  {
   "cell_type": "markdown",
   "metadata": {},
   "source": [
    "### 4. Data Visualization"
   ]
  },
  {
   "cell_type": "code",
   "execution_count": 103,
   "metadata": {},
   "outputs": [
    {
     "data": {
      "image/png": "[encoded data removed]",
      "text/plain": [
       "<Figure size 432x288 with 1 Axes>"
      ]
     },
     "metadata": {
      "needs_background": "light"
     },
     "output_type": "display_data"
    }
   ],
   "source": [
    "plt.plot(tweets['Timestamp'], tweets['Likes'])\n",
    "plt.gcf().autofmt_xdate()\n",
    "\n",
    "plt.show()"
   ]
  }
 ],
 "metadata": {
  "interpreter": {
   "hash": "ac59ebe37160ed0dfa835113d9b8498d9f09ceb179beaac4002f036b9467c963"
  },
  "kernelspec": {
   "display_name": "Python 3.9.7 64-bit",
   "language": "python",
   "name": "python3"
  },
  "language_info": {
   "codemirror_mode": {
    "name": "ipython",
    "version": 3
   },
   "file_extension": ".py",
   "mimetype": "text/x-python",
   "name": "python",
   "nbconvert_exporter": "python",
   "pygments_lexer": "ipython3",
   "version": "3.9.7"
  },
  "orig_nbformat": 4
 },
 "nbformat": 4,
 "nbformat_minor": 2
}
